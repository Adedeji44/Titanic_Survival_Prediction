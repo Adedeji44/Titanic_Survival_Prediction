{
 "cells": [
  {
   "cell_type": "markdown",
   "id": "9a5f348a",
   "metadata": {},
   "source": [
    "--------------------------\n",
    "## **Data Dictionary**\n",
    "--------------------------\n",
    "\n",
    "- **survival** - If passenger will survive or not (Yes - 1, No - 0).\n",
    "- **pclass** - Ticket class (1st, 2nd, and 3rd).\n",
    "- **sex** - Sex of the passenger (M / F).\n",
    "- **Age** - Age in years.\n",
    "- **sibsp** - The number of siblings / spouses aboard the Titanic.\n",
    "- **parch** - The number of parents / children aboard the Titanic.\n",
    "- **ticket** - Ticket number.\n",
    "- **fare** - Passenger fare.\n",
    "- **cabin** - Cabin number.\n",
    "- **embarked** - Port of embarkation."
   ]
  },
  {
   "cell_type": "code",
   "execution_count": null,
   "id": "ba23e325",
   "metadata": {},
   "outputs": [],
   "source": []
  }
 ],
 "metadata": {
  "kernelspec": {
   "display_name": "Python 3 (ipykernel)",
   "language": "python",
   "name": "python3"
  },
  "language_info": {
   "codemirror_mode": {
    "name": "ipython",
    "version": 3
   },
   "file_extension": ".py",
   "mimetype": "text/x-python",
   "name": "python",
   "nbconvert_exporter": "python",
   "pygments_lexer": "ipython3",
   "version": "3.9.12"
  }
 },
 "nbformat": 4,
 "nbformat_minor": 5
}
